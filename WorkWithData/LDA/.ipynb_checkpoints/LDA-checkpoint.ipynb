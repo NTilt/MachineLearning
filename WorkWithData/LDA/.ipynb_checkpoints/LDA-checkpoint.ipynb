{
 "cells": [
  {
   "cell_type": "markdown",
   "metadata": {},
   "source": [
    "### LDA (Линейный Дискриминантный анализ)  \n",
    "Внутреннее устройство линейного дискриминантного анализа\n",
    "1. Стандартизировать d-мерный набор исходных данных (d - количество признаков)\n",
    "2. Для каждого класса вычислить d-мерный вектор средних\n",
    "3. Построить матрицу рассеяния между классами S_B и матрицу рассеяния внутри классов S_W\n",
    "4. Вычислить собственные векторы и соответствующие собственные значения матрицы (S_W.inv).dot(S_B)\n",
    "5. Отсортировать собственные значения в порядке убывания, чтобы ранжировать соответствующие собственные векторы\n",
    "6. Выбрать k-собственных векторов, которые соответствуют k наибольшим собственным значениям, чтобы построить d * k -мерную матрицу трансформации W; собственные векторы будут столбцами этой матрицы\n",
    "7. Спроецировать образцы в новое подпространство признаков, используя матрицу трансформации W"
   ]
  },
  {
   "cell_type": "code",
   "execution_count": 29,
   "metadata": {},
   "outputs": [],
   "source": [
    "import pandas as pd\n",
    "import numpy as np\n",
    "import matplotlib.pyplot as plt\n",
    "from matplotlib.colors import ListedColormap\n",
    "from sklearn.model_selection import train_test_split\n",
    "from sklearn.preprocessing import StandardScaler\n",
    "from sklearn.linear_model import LogisticRegression\n",
    "from sklearn.decomposition import PCA\n",
    "from sklearn.discriminant_analysis import LinearDiscriminantAnalysis as LDA"
   ]
  },
  {
   "cell_type": "code",
   "execution_count": 2,
   "metadata": {},
   "outputs": [],
   "source": [
    "data = pd.read_csv('https://archive.ics.uci.edu/ml/machine-learning-databases/wine/wine.data', header=None)"
   ]
  },
  {
   "cell_type": "code",
   "execution_count": 3,
   "metadata": {},
   "outputs": [],
   "source": [
    "X,y = data.iloc[:, 1:].values, data.iloc[:, 0].values"
   ]
  },
  {
   "cell_type": "code",
   "execution_count": 4,
   "metadata": {},
   "outputs": [],
   "source": [
    "X_train, X_test, y_train, y_test = train_test_split(X, y, test_size=0.3, stratify=y, random_state=0)\n"
   ]
  },
  {
   "cell_type": "code",
   "execution_count": 5,
   "metadata": {},
   "outputs": [],
   "source": [
    "sc = StandardScaler()\n",
    "# Стандартизируем, приведя к единичной дисперсии\n",
    "X_train_std = sc.fit_transform(X_train)\n",
    "X_test_std = sc.transform(X_test)"
   ]
  },
  {
   "cell_type": "code",
   "execution_count": 17,
   "metadata": {},
   "outputs": [
    {
     "name": "stdout",
     "output_type": "stream",
     "text": [
      "[array([ 0.9066, -0.3497,  0.3201, -0.7189,  0.5056,  0.8807,  0.9589,\n",
      "       -0.5516,  0.5416,  0.2338,  0.5897,  0.6563,  1.2075]), array([-0.8749, -0.2848, -0.3735,  0.3157, -0.3848, -0.0433,  0.0635,\n",
      "       -0.0946,  0.0703, -0.8286,  0.3144,  0.3608, -0.7253]), array([ 0.1992,  0.866 ,  0.1682,  0.4148, -0.0451, -1.0286, -1.2876,\n",
      "        0.8287, -0.7795,  0.9649, -1.209 , -1.3622, -0.4013])]\n"
     ]
    }
   ],
   "source": [
    "np.set_printoptions(precision=4)\n",
    "mean_vecs = []\n",
    "# Вычисление векторов средних, которые будут применяться при построении матрицы рассеяния внутри классов и матрицы рассеяния\n",
    "# между классами\n",
    "for label in range(1,4):\n",
    "    mean_vecs.append(np.mean(X_train_std[y_train==label],axis=0))\n",
    "print(mean_vecs)"
   ]
  },
  {
   "cell_type": "code",
   "execution_count": 18,
   "metadata": {},
   "outputs": [],
   "source": [
    "# Используя векторы средних, вычислим матрицу рассеяния внутри классов S_W (суммируем индивидуальные матрицы рассеяния каждого отдельного класса)\n",
    "d = 13\n",
    "S_W = np.zeros((d,d))\n",
    "for label, mv in zip(range(1,4), mean_vecs):\n",
    "    class_scatter = np.zeros((d,d))\n",
    "    for row in X_train_std[y_train==label]:\n",
    "        row,mv = row.reshape(d,1), mv.reshape(d,1)\n",
    "        class_scatter += (row-mv).dot((row-mv).T)\n",
    "    S_W += class_scatter"
   ]
  },
  {
   "cell_type": "code",
   "execution_count": 34,
   "metadata": {},
   "outputs": [
    {
     "name": "stdout",
     "output_type": "stream",
     "text": [
      "Распределение меток класса: [41 50 33]\n"
     ]
    }
   ],
   "source": [
    "# После вычисления матрицы рассеяния предполагаем, что в обучающем наборе равномерное распределение классов, однако это не так\n",
    "print('Распределение меток класса: %s' % np.bincount(y_train)[1:])"
   ]
  },
  {
   "cell_type": "markdown",
   "metadata": {},
   "source": [
    "Таким образом, мы хотим масштабировать индивидуальные матрицы рассеяния отдельных классов перед их суммированием.\n",
    "Можно заметить, что вычисление матрицы рассеяния фактически будет таким же, как вычисление ковариационной матрицы. "
   ]
  },
  {
   "cell_type": "code",
   "execution_count": 20,
   "metadata": {},
   "outputs": [],
   "source": [
    "d = 13\n",
    "S_W = np.zeros((d,d))\n",
    "for label,mv in zip(range(1,4), mean_vecs):\n",
    "    class_scatter = np.cov(X_train_std[y_train==label].T)\n",
    "    S_W += class_scatter"
   ]
  },
  {
   "cell_type": "markdown",
   "metadata": {},
   "source": [
    "Теперь вычислим матрицу рассеяния внутри между классами"
   ]
  },
  {
   "cell_type": "code",
   "execution_count": 21,
   "metadata": {},
   "outputs": [],
   "source": [
    "mean_overall = np.mean(X_train_std, axis=0)\n",
    "d = 13\n",
    "S_B = np.zeros((d,d))\n",
    "for i, mean_vec in enumerate(mean_vecs):\n",
    "    n = X_train[y_train == i + 1, :].shape[0]\n",
    "    mean_vec = mean_vec.reshape(d,1)\n",
    "    mean_overall = mean_overall.reshape(d,1)\n",
    "    S_B += n * (mean_vec - mean_overall).dot((mean_vec - mean_overall).T)"
   ]
  },
  {
   "cell_type": "markdown",
   "metadata": {},
   "source": [
    "Далее получаем собственные векторы и собственные значения матрицы (S_W.inv).dot(S_B)"
   ]
  },
  {
   "cell_type": "code",
   "execution_count": 22,
   "metadata": {},
   "outputs": [],
   "source": [
    "eigen_vals, eigen_vecs = np.linalg.eig(np.linalg.inv(S_W).dot(S_B))"
   ]
  },
  {
   "cell_type": "code",
   "execution_count": 24,
   "metadata": {},
   "outputs": [
    {
     "name": "stdout",
     "output_type": "stream",
     "text": [
      "349.6178089059939\n",
      "172.76152218979388\n",
      "3.7853134512521556e-14\n",
      "2.117398448224407e-14\n",
      "1.5164618894178885e-14\n",
      "1.5164618894178885e-14\n",
      "1.3579567140455979e-14\n",
      "1.3579567140455979e-14\n",
      "7.587760371654683e-15\n",
      "5.906039984472233e-15\n",
      "5.906039984472233e-15\n",
      "2.256441978569674e-15\n",
      "0.0\n"
     ]
    }
   ],
   "source": [
    "# Сортируем полученные значения в порядку убывания\n",
    "eigen_pairs = [(np.abs(eigen_vals[i]),eigen_vecs[:,i]) for i in range(len(eigen_vals))]\n",
    "eigen_pairs = sorted(eigen_pairs,key=lambda k:k[0], reverse=True)\n",
    "for eigen_val in eigen_pairs:\n",
    "    print(eigen_val[0])"
   ]
  },
  {
   "cell_type": "markdown",
   "metadata": {},
   "source": [
    "Чтобы измерить, сколько информации, различающей классы, захватывается линейным дискриминантом, мы построим график линейных дискриминантов по убыванию собственных значений. Для упрощения, будем называть содержимое информации, различающей классы - **различимостью**"
   ]
  },
  {
   "cell_type": "code",
   "execution_count": 25,
   "metadata": {},
   "outputs": [
    {
     "data": {
      "image/png": "[encoded data removed]",
      "text/plain": [
       "<Figure size 432x288 with 1 Axes>"
      ]
     },
     "metadata": {
      "needs_background": "light"
     },
     "output_type": "display_data"
    }
   ],
   "source": [
    "tot = sum(eigen_vals.real)\n",
    "discr = [(i/tot) for i in sorted(eigen_vals.real, reverse=True)]\n",
    "cum_discr = np.cumsum(discr)\n",
    "plt.bar(range(1,14),discr, alpha=0.5, align='center', label='индивидуальная различимость')\n",
    "plt.step(range(1,14), cum_discr, where='mid', label='кумулятивная различимость')\n",
    "plt.ylabel('Коэффициент различимости')\n",
    "plt.xlabel('Линейные дискриминанты')\n",
    "plt.ylim([-0.1,1.1])\n",
    "plt.legend(loc='best')\n",
    "plt.show()"
   ]
  },
  {
   "cell_type": "markdown",
   "metadata": {},
   "source": [
    "На графике видно, что первые два линейных дискриминанта без посторонней помощи захватывают 100% полезной информации. Далее создадим матрицу трансформации W"
   ]
  },
  {
   "cell_type": "code",
   "execution_count": 26,
   "metadata": {},
   "outputs": [
    {
     "data": {
      "text/plain": [
       "array([[-0.1481, -0.4092],\n",
       "       [ 0.0908, -0.1577],\n",
       "       [-0.0168, -0.3537],\n",
       "       [ 0.1484,  0.3223],\n",
       "       [-0.0163, -0.0817],\n",
       "       [ 0.1913,  0.0842],\n",
       "       [-0.7338,  0.2823],\n",
       "       [-0.075 , -0.0102],\n",
       "       [ 0.0018,  0.0907],\n",
       "       [ 0.294 , -0.2152],\n",
       "       [-0.0328,  0.2747],\n",
       "       [-0.3547, -0.0124],\n",
       "       [-0.3915, -0.5958]])"
      ]
     },
     "execution_count": 26,
     "metadata": {},
     "output_type": "execute_result"
    }
   ],
   "source": [
    "w = np.hstack((eigen_pairs[0][1][:,np.newaxis].real,eigen_pairs[1][1][:,np.newaxis].real,))\n",
    "w"
   ]
  },
  {
   "cell_type": "code",
   "execution_count": 28,
   "metadata": {},
   "outputs": [
    {
     "data": {
      "image/png": "[encoded data removed]",
      "text/plain": [
       "<Figure size 432x288 with 1 Axes>"
      ]
     },
     "metadata": {
      "needs_background": "light"
     },
     "output_type": "display_data"
    }
   ],
   "source": [
    "X_train_lda = X_train_std.dot(w)\n",
    "# Далее трансформируем наши исходные данные \n",
    "colors = ['r','b','g']\n",
    "markers = ['s','x','o']\n",
    "for l,c,m in zip(np.unique(y_train),colors,markers):\n",
    "    plt.scatter(X_train_lda[y_train==l,0],X_train_lda[y_train==l,1] * (-1),c=c, label=l, marker=m)\n",
    "plt.xlabel('LD1')\n",
    "plt.ylabel('LD2')\n",
    "plt.legend(loc='lower right')\n",
    "plt.show()"
   ]
  },
  {
   "cell_type": "code",
   "execution_count": 31,
   "metadata": {},
   "outputs": [],
   "source": [
    "def plot_decision_regions(X, y, classifier, test_idx=None, resolution=0.02):\n",
    "    #Настроим генератор маркеров и карту цветов\n",
    "    markers = ('s', 'x', 'o', '^', 'v')\n",
    "    colors = ('red','blue','lightgreen','gray','cyan')\n",
    "    cmap = ListedColormap(colors[:len(np.unique(y))])\n",
    "    \n",
    "    # Вывести поверхность решения\n",
    "    x1_min, x1_max = X[:,0].min() - 1, X[:,0].max() + 1\n",
    "    x2_min, x2_max = X[:,1].min() - 1, X[:,1].max() + 1\n",
    "    xx1, xx2 = np.meshgrid(np.arange(x1_min,x1_max, resolution),np.arange(x2_min,x2_max, resolution))\n",
    "    Z = classifier.predict(np.array([xx1.ravel(), xx2.ravel()]).T)\n",
    "    Z = Z.reshape(xx1.shape)\n",
    "    plt.contourf(xx1,xx2,Z,alpha=0.3,cmap=cmap)\n",
    "    plt.xlim(xx1.min(),xx1.max())\n",
    "    plt.ylim(xx2.min(),xx2.max())\n",
    "    \n",
    "    for idx, cl in enumerate(np.unique(y)):\n",
    "        plt.scatter(x = X[y == cl,0], y = X[y == cl, 1], alpha=0.8,c=colors[idx], marker = markers[idx], label=cl, edgecolors='black')\n",
    "        \n",
    "    if test_idx:\n",
    "        X_test, y_test = X[test_idx,:], y[test_idx]\n",
    "        plt.scatter(X_test[:, 0], X_test[:, 1], c='',edgecolor='black',alpha=1.0, linewidths=1, marker='o',s=100, label='Испытательный набор')"
   ]
  },
  {
   "cell_type": "code",
   "execution_count": 30,
   "metadata": {},
   "outputs": [],
   "source": [
    "# Рассмотрим реализацию sklearn\n",
    "lda = LDA(n_components=2)\n",
    "X_train_lda = lda.fit_transform(X_train_std, y_train)"
   ]
  },
  {
   "cell_type": "code",
   "execution_count": 32,
   "metadata": {},
   "outputs": [
    {
     "data": {
      "image/png": "[encoded data removed]",
      "text/plain": [
       "<Figure size 432x288 with 1 Axes>"
      ]
     },
     "metadata": {
      "needs_background": "light"
     },
     "output_type": "display_data"
    }
   ],
   "source": [
    "lr = LogisticRegression()\n",
    "lr = lr.fit(X_train_lda, y_train)\n",
    "plot_decision_regions(X_train_lda, y_train, classifier=lr)\n",
    "plt.xlabel('LD1')\n",
    "plt.ylabel('LD2')\n",
    "plt.legend(loc='lower left')\n",
    "plt.show()"
   ]
  },
  {
   "cell_type": "code",
   "execution_count": 1,
   "metadata": {},
   "outputs": [
    {
     "ename": "NameError",
     "evalue": "name 'lda' is not defined",
     "output_type": "error",
     "traceback": [
      "\u001b[0;31m---------------------------------------------------------------------------\u001b[0m",
      "\u001b[0;31mNameError\u001b[0m                                 Traceback (most recent call last)",
      "\u001b[0;32m<ipython-input-1-4f345c5b516e>\u001b[0m in \u001b[0;36m<module>\u001b[0;34m\u001b[0m\n\u001b[0;32m----> 1\u001b[0;31m \u001b[0mX_test_lda\u001b[0m \u001b[0;34m=\u001b[0m \u001b[0mlda\u001b[0m\u001b[0;34m.\u001b[0m\u001b[0mtransform\u001b[0m\u001b[0;34m(\u001b[0m\u001b[0mX_test_std\u001b[0m\u001b[0;34m)\u001b[0m\u001b[0;34m\u001b[0m\u001b[0;34m\u001b[0m\u001b[0m\n\u001b[0m\u001b[1;32m      2\u001b[0m \u001b[0mplot_decision_regions\u001b[0m\u001b[0;34m(\u001b[0m\u001b[0mX_test_lda\u001b[0m\u001b[0;34m,\u001b[0m \u001b[0my_test\u001b[0m\u001b[0;34m,\u001b[0m \u001b[0mclassifier\u001b[0m\u001b[0;34m=\u001b[0m\u001b[0mlr\u001b[0m\u001b[0;34m)\u001b[0m\u001b[0;34m\u001b[0m\u001b[0;34m\u001b[0m\u001b[0m\n\u001b[1;32m      3\u001b[0m \u001b[0mplt\u001b[0m\u001b[0;34m.\u001b[0m\u001b[0mxlabel\u001b[0m\u001b[0;34m(\u001b[0m\u001b[0;34m'LD1'\u001b[0m\u001b[0;34m)\u001b[0m\u001b[0;34m\u001b[0m\u001b[0;34m\u001b[0m\u001b[0m\n\u001b[1;32m      4\u001b[0m \u001b[0mplt\u001b[0m\u001b[0;34m.\u001b[0m\u001b[0mylabel\u001b[0m\u001b[0;34m(\u001b[0m\u001b[0;34m'LD2'\u001b[0m\u001b[0;34m)\u001b[0m\u001b[0;34m\u001b[0m\u001b[0;34m\u001b[0m\u001b[0m\n\u001b[1;32m      5\u001b[0m \u001b[0mplt\u001b[0m\u001b[0;34m.\u001b[0m\u001b[0mlegend\u001b[0m\u001b[0;34m(\u001b[0m\u001b[0mloc\u001b[0m\u001b[0;34m=\u001b[0m\u001b[0;34m'lower left'\u001b[0m\u001b[0;34m)\u001b[0m\u001b[0;34m\u001b[0m\u001b[0;34m\u001b[0m\u001b[0m\n",
      "\u001b[0;31mNameError\u001b[0m: name 'lda' is not defined"
     ]
    }
   ],
   "source": [
    "X_test_lda = lda.transform(X_test_std)\n",
    "plot_decision_regions(X_test_lda, y_test, classifier=lr)\n",
    "plt.xlabel('LD1')\n",
    "plt.ylabel('LD2')\n",
    "plt.legend(loc='lower left')\n",
    "plt.show()"
   ]
  },
  {
   "cell_type": "markdown",
   "metadata": {},
   "source": [
    "На графике видно,что используя лишь двумерное подпространство признаков, а не исходные 13, классификатор на основе логистической регрессии способен достичь идеальной меры правильности. "
   ]
  }
 ],
 "metadata": {
  "kernelspec": {
   "display_name": "Python 3",
   "language": "python",
   "name": "python3"
  },
  "language_info": {
   "codemirror_mode": {
    "name": "ipython",
    "version": 3
   },
   "file_extension": ".py",
   "mimetype": "text/x-python",
   "name": "python",
   "nbconvert_exporter": "python",
   "pygments_lexer": "ipython3",
   "version": "3.7.6"
  }
 },
 "nbformat": 4,
 "nbformat_minor": 4
}
